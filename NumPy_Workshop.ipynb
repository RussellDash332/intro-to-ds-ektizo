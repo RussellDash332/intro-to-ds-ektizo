{
  "nbformat": 4,
  "nbformat_minor": 0,
  "metadata": {
    "colab": {
      "name": "NumPy Playground.ipynb",
      "provenance": [],
      "collapsed_sections": [
        "uaPeRcXEgDSj",
        "wek3VGg5knOr",
        "Sjy2mJhDlAlb",
        "JG8Zz6IXl4nr",
        "zwNVy5I71jXN",
        "cOgJYn0s3KzC",
        "5DlTk2fq4MlT",
        "LgBpbBhK8QYn",
        "FLKl6T7--ssP",
        "bN5Y-zQUBmd0",
        "qr-zlyMbDt5U",
        "HijxkGJCGAr9",
        "S8TkHf7MGvqE",
        "F288BctIG87f",
        "mvTiekGSIDCf"
      ]
    },
    "kernelspec": {
      "name": "python3",
      "display_name": "Python 3"
    },
    "language_info": {
      "name": "python"
    }
  },
  "cells": [
    {
      "cell_type": "markdown",
      "metadata": {
        "id": "uaPeRcXEgDSj"
      },
      "source": [
        "# Importing NumPy"
      ]
    },
    {
      "cell_type": "code",
      "metadata": {
        "colab": {
          "base_uri": "https://localhost:8080/"
        },
        "id": "RGSTP7tQgBKZ",
        "outputId": "1c87f77f-34bd-4652-967f-bb64c67bc5ff"
      },
      "source": [
        "import numpy as np\n",
        "print(np.__version__)"
      ],
      "execution_count": null,
      "outputs": [
        {
          "output_type": "stream",
          "text": [
            "1.19.5\n"
          ],
          "name": "stdout"
        }
      ]
    },
    {
      "cell_type": "markdown",
      "metadata": {
        "id": "wek3VGg5knOr"
      },
      "source": [
        "# Creating an array with NumPy"
      ]
    },
    {
      "cell_type": "code",
      "metadata": {
        "colab": {
          "base_uri": "https://localhost:8080/"
        },
        "id": "qFCmHI1GkqBP",
        "outputId": "664e6f00-60b8-47aa-b180-cfc657ef8105"
      },
      "source": [
        "arr = np.array([1, 2, 3, 4, 5])\n",
        "print(arr)\n",
        "print(type(arr))"
      ],
      "execution_count": null,
      "outputs": [
        {
          "output_type": "stream",
          "text": [
            "[1 2 3 4 5]\n",
            "<class 'numpy.ndarray'>\n"
          ],
          "name": "stdout"
        }
      ]
    },
    {
      "cell_type": "markdown",
      "metadata": {
        "id": "WnWyJI86kzi1"
      },
      "source": [
        "type(): This built-in Python function tells us the type of the object passed to it. Like in above code it shows that arr is **numpy.ndarray** type.\n",
        "\n",
        "To create an ndarray, we can pass **a list, tuple or any array-like object** into the array() method, and it will be converted into an ndarray!"
      ]
    },
    {
      "cell_type": "code",
      "metadata": {
        "colab": {
          "base_uri": "https://localhost:8080/"
        },
        "id": "hZkhUHIOk4Rd",
        "outputId": "38ad1049-16d9-4d76-a1f8-9c47f760902c"
      },
      "source": [
        "arr2 = np.array((1, 2, 3, 4, 5))\n",
        "print(arr2)\n",
        "print(type(arr2))"
      ],
      "execution_count": null,
      "outputs": [
        {
          "output_type": "stream",
          "text": [
            "[1 2 3 4 5]\n",
            "<class 'numpy.ndarray'>\n"
          ],
          "name": "stdout"
        }
      ]
    },
    {
      "cell_type": "markdown",
      "metadata": {
        "id": "Sjy2mJhDlAlb"
      },
      "source": [
        "# Dimensions in Arrays"
      ]
    },
    {
      "cell_type": "markdown",
      "metadata": {
        "id": "ABHq5yBwlEsi"
      },
      "source": [
        "0-Dimension"
      ]
    },
    {
      "cell_type": "code",
      "metadata": {
        "colab": {
          "base_uri": "https://localhost:8080/"
        },
        "id": "QvKbOtdJlDpC",
        "outputId": "76b95da9-02c9-4d34-8182-9e96d1422446"
      },
      "source": [
        "arr3 = np.array(42)\n",
        "print(arr3)"
      ],
      "execution_count": null,
      "outputs": [
        {
          "output_type": "stream",
          "text": [
            "42\n"
          ],
          "name": "stdout"
        }
      ]
    },
    {
      "cell_type": "markdown",
      "metadata": {
        "id": "PU8Ae3yJlPxe"
      },
      "source": [
        "1-Dimension"
      ]
    },
    {
      "cell_type": "code",
      "metadata": {
        "colab": {
          "base_uri": "https://localhost:8080/"
        },
        "id": "ptJ3u5NclQzp",
        "outputId": "2dd253f2-367c-4e7a-b5ed-e439ac18b24b"
      },
      "source": [
        "print(arr)"
      ],
      "execution_count": null,
      "outputs": [
        {
          "output_type": "stream",
          "text": [
            "[1 2 3 4 5]\n"
          ],
          "name": "stdout"
        }
      ]
    },
    {
      "cell_type": "markdown",
      "metadata": {
        "id": "6TN4MRkNlTIf"
      },
      "source": [
        "2-Dimension"
      ]
    },
    {
      "cell_type": "code",
      "metadata": {
        "colab": {
          "base_uri": "https://localhost:8080/"
        },
        "id": "TO8IGj_ElXRJ",
        "outputId": "4ed8df59-ba57-4da6-bad4-0e47a0f67dbf"
      },
      "source": [
        "arr4 = np.array([[1, 2, 3], [4, 5, 6]])\n",
        "print(arr4)"
      ],
      "execution_count": null,
      "outputs": [
        {
          "output_type": "stream",
          "text": [
            "[[1 2 3]\n",
            " [4 5 6]]\n"
          ],
          "name": "stdout"
        }
      ]
    },
    {
      "cell_type": "markdown",
      "metadata": {
        "id": "JQ0vDyG6lYmo"
      },
      "source": [
        "3-Dimension"
      ]
    },
    {
      "cell_type": "code",
      "metadata": {
        "colab": {
          "base_uri": "https://localhost:8080/"
        },
        "id": "AwAxP1NFlb6V",
        "outputId": "dfab932e-5308-494f-ec2b-62ca0f537de7"
      },
      "source": [
        "arr5 = np.array([[[1, 2, 3], [4, 5, 6]], [[1, 2, 3], [4, 5, 6]]])\n",
        "print(arr5)"
      ],
      "execution_count": null,
      "outputs": [
        {
          "output_type": "stream",
          "text": [
            "[[[1 2 3]\n",
            "  [4 5 6]]\n",
            "\n",
            " [[1 2 3]\n",
            "  [4 5 6]]]\n"
          ],
          "name": "stdout"
        }
      ]
    },
    {
      "cell_type": "markdown",
      "metadata": {
        "id": "hsw_O3iplebj"
      },
      "source": [
        "Checking for number of dimensions"
      ]
    },
    {
      "cell_type": "code",
      "metadata": {
        "colab": {
          "base_uri": "https://localhost:8080/"
        },
        "id": "gTzLYFyzlf19",
        "outputId": "0dc5ae42-4af6-4f84-9700-9155e1329b39"
      },
      "source": [
        "print(arr3.ndim) # 0-D\n",
        "print(arr4.ndim) # 2-D\n",
        "print(arr5.ndim) # 3-D"
      ],
      "execution_count": null,
      "outputs": [
        {
          "output_type": "stream",
          "text": [
            "0\n",
            "2\n",
            "3\n"
          ],
          "name": "stdout"
        }
      ]
    },
    {
      "cell_type": "markdown",
      "metadata": {
        "id": "U48BGEYUlsBJ"
      },
      "source": [
        "An array can have any number of dimensions.\n",
        "\n",
        "When the array is created, you can define the number of dimensions by using the **ndmin** argument."
      ]
    },
    {
      "cell_type": "code",
      "metadata": {
        "colab": {
          "base_uri": "https://localhost:8080/"
        },
        "id": "F-QiE53bluky",
        "outputId": "e446dc53-73d4-443a-d93f-69811ec01017"
      },
      "source": [
        "arr6 = np.array([1, 2, 3, 4], ndmin=5)\n",
        "\n",
        "print(arr6)\n",
        "print('number of dimensions :', arr6.ndim)"
      ],
      "execution_count": null,
      "outputs": [
        {
          "output_type": "stream",
          "text": [
            "[[[[[1 2 3 4]]]]]\n",
            "number of dimensions : 5\n"
          ],
          "name": "stdout"
        }
      ]
    },
    {
      "cell_type": "markdown",
      "metadata": {
        "id": "JG8Zz6IXl4nr"
      },
      "source": [
        "# Array Extraction"
      ]
    },
    {
      "cell_type": "code",
      "metadata": {
        "colab": {
          "base_uri": "https://localhost:8080/"
        },
        "id": "dRTcaXS4l88m",
        "outputId": "81330970-a00c-4216-ff49-6f81920ab75c"
      },
      "source": [
        "arr7 = np.array([1, 3, 5, 7, 9])\n",
        "print(arr7[1])"
      ],
      "execution_count": null,
      "outputs": [
        {
          "output_type": "stream",
          "text": [
            "3\n"
          ],
          "name": "stdout"
        }
      ]
    },
    {
      "cell_type": "code",
      "metadata": {
        "colab": {
          "base_uri": "https://localhost:8080/"
        },
        "id": "JRuk-KV90pbN",
        "outputId": "4a69231c-3fbd-4e7f-e9bc-e8ba19bd09d0"
      },
      "source": [
        "arr8 = np.array([[1, 2, 3], np.array([2, 4, 6])])\n",
        "print(arr8[0])\n",
        "print(arr8[0, 1])\n",
        "print(arr8[-1, -2])"
      ],
      "execution_count": null,
      "outputs": [
        {
          "output_type": "stream",
          "text": [
            "[1 2 3]\n",
            "2\n",
            "4\n"
          ],
          "name": "stdout"
        }
      ]
    },
    {
      "cell_type": "code",
      "metadata": {
        "colab": {
          "base_uri": "https://localhost:8080/"
        },
        "id": "kciO-30o07yY",
        "outputId": "8204cf8f-c2a9-44a6-98be-df9a5246d8c2"
      },
      "source": [
        "arr8[0, 1:3:1]"
      ],
      "execution_count": null,
      "outputs": [
        {
          "output_type": "execute_result",
          "data": {
            "text/plain": [
              "array([2, 3])"
            ]
          },
          "metadata": {
            "tags": []
          },
          "execution_count": 63
        }
      ]
    },
    {
      "cell_type": "markdown",
      "metadata": {
        "id": "zwNVy5I71jXN"
      },
      "source": [
        "# Data Types in NumPy"
      ]
    },
    {
      "cell_type": "markdown",
      "metadata": {
        "id": "JJebtNBK1rSM"
      },
      "source": [
        "By default Python have these data types:\n",
        "\n",
        "* string - used to represent text data, the text is given under quote marks. e.g. \"ABCD\"\n",
        "* integer - used to represent integer numbers. e.g. -1, -2, -3\n",
        "* float - used to represent real numbers. e.g. 1.2, 42.42\n",
        "* boolean - used to represent True or False.\n",
        "* complex - used to represent complex numbers. e.g. 1.0 + 2.0j, 1.5 + 2.5j"
      ]
    },
    {
      "cell_type": "markdown",
      "metadata": {
        "id": "Z17fAlY710e2"
      },
      "source": [
        "NumPy has some extra data types, and refer to data types with one character, like i for integers, u for unsigned integers etc.\n",
        "\n",
        "Below is a list of all data types in NumPy and the characters used to represent them.\n",
        "\n",
        "* i - integer\n",
        "* b - boolean\n",
        "* u - unsigned integer\n",
        "* f - float\n",
        "* c - complex float\n",
        "* m - timedelta\n",
        "* M - datetime\n",
        "* O - object\n",
        "* S - string\n",
        "* U - unicode string\n",
        "* V - fixed chunk of memory for other type ( void )"
      ]
    },
    {
      "cell_type": "code",
      "metadata": {
        "colab": {
          "base_uri": "https://localhost:8080/"
        },
        "id": "hxU9qxd-2M5T",
        "outputId": "9d6115b0-50c3-4b7a-ef9f-78e14199ef7b"
      },
      "source": [
        "arr9 = np.array([1, 2, 3, 4])\n",
        "print(arr9.dtype)\n",
        "\n",
        "arr10 = np.array(['apple', 'banana', 'cherry'])\n",
        "print(arr10.dtype)"
      ],
      "execution_count": null,
      "outputs": [
        {
          "output_type": "stream",
          "text": [
            "int64\n",
            "<U6\n"
          ],
          "name": "stdout"
        }
      ]
    },
    {
      "cell_type": "markdown",
      "metadata": {
        "id": "MeekLyBC2vSA"
      },
      "source": [
        "For i, u, f, S and U we can define size as well."
      ]
    },
    {
      "cell_type": "code",
      "metadata": {
        "colab": {
          "base_uri": "https://localhost:8080/"
        },
        "id": "gKHWuG722yU1",
        "outputId": "595cb7b5-1c19-4d73-9658-97036423392b"
      },
      "source": [
        "arr11 = np.array([1, 2, 3, 6], dtype='i4')\n",
        "\n",
        "print(arr11)\n",
        "print(arr11.dtype)"
      ],
      "execution_count": null,
      "outputs": [
        {
          "output_type": "stream",
          "text": [
            "[1 2 3 6]\n",
            "int32\n"
          ],
          "name": "stdout"
        }
      ]
    },
    {
      "cell_type": "code",
      "metadata": {
        "id": "RWZx5YKf3GWw",
        "colab": {
          "base_uri": "https://localhost:8080/",
          "height": 163
        },
        "outputId": "b5d0c2e9-10da-414a-abde-1b407dd09175"
      },
      "source": [
        "#arr12 = np.array(['a', '2', '3'], dtype='i')"
      ],
      "execution_count": null,
      "outputs": [
        {
          "output_type": "error",
          "ename": "ValueError",
          "evalue": "ignored",
          "traceback": [
            "\u001b[0;31m---------------------------------------------------------------------------\u001b[0m",
            "\u001b[0;31mValueError\u001b[0m                                Traceback (most recent call last)",
            "\u001b[0;32m<ipython-input-66-6b5f8854a7a6>\u001b[0m in \u001b[0;36m<module>\u001b[0;34m()\u001b[0m\n\u001b[0;32m----> 1\u001b[0;31m \u001b[0marr12\u001b[0m \u001b[0;34m=\u001b[0m \u001b[0mnp\u001b[0m\u001b[0;34m.\u001b[0m\u001b[0marray\u001b[0m\u001b[0;34m(\u001b[0m\u001b[0;34m[\u001b[0m\u001b[0;34m'a'\u001b[0m\u001b[0;34m,\u001b[0m \u001b[0;34m'2'\u001b[0m\u001b[0;34m,\u001b[0m \u001b[0;34m'3'\u001b[0m\u001b[0;34m]\u001b[0m\u001b[0;34m,\u001b[0m \u001b[0mdtype\u001b[0m\u001b[0;34m=\u001b[0m\u001b[0;34m'i'\u001b[0m\u001b[0;34m)\u001b[0m\u001b[0;34m\u001b[0m\u001b[0;34m\u001b[0m\u001b[0m\n\u001b[0m",
            "\u001b[0;31mValueError\u001b[0m: invalid literal for int() with base 10: 'a'"
          ]
        }
      ]
    },
    {
      "cell_type": "markdown",
      "metadata": {
        "id": "cOgJYn0s3KzC"
      },
      "source": [
        "# Type Conversion"
      ]
    },
    {
      "cell_type": "markdown",
      "metadata": {
        "id": "fbz3n0AD3O9Q"
      },
      "source": [
        "The best way to change the data type of an existing array, is to make a copy of the array with the astype() method.\n",
        "\n",
        "The astype() function creates a copy of the array, and allows you to specify the data type as a parameter."
      ]
    },
    {
      "cell_type": "code",
      "metadata": {
        "colab": {
          "base_uri": "https://localhost:8080/"
        },
        "id": "ozq6odkM3TxW",
        "outputId": "eefc473d-4366-4fed-856c-2493935f1e04"
      },
      "source": [
        "arr13 = np.array([1.1, 2.1, 3.1])\n",
        "newarr = arr13.astype('i')\n",
        "\n",
        "print(newarr)\n",
        "print(newarr.dtype)"
      ],
      "execution_count": null,
      "outputs": [
        {
          "output_type": "stream",
          "text": [
            "[1 2 3]\n",
            "int32\n"
          ],
          "name": "stdout"
        }
      ]
    },
    {
      "cell_type": "markdown",
      "metadata": {
        "id": "5DlTk2fq4MlT"
      },
      "source": [
        "# Copy vs View"
      ]
    },
    {
      "cell_type": "code",
      "metadata": {
        "id": "Dm04jw8F4PuO"
      },
      "source": [
        "arr14 = np.array([1, 2, 3, 4, 5])\n",
        "x = arr14.copy()\n",
        "arr14[0] = 42\n",
        "\n",
        "print(arr14)\n",
        "print(x)"
      ],
      "execution_count": null,
      "outputs": []
    },
    {
      "cell_type": "code",
      "metadata": {
        "id": "nGu3mNDz426n"
      },
      "source": [
        "arr15 = np.array([1, 2, 3, 4, 5])\n",
        "y = arr15.view()\n",
        "arr15[0] = 42\n",
        "\n",
        "print(arr15)\n",
        "print(y)\n",
        "\n",
        "y[0] = 31\n",
        "print(arr15)\n",
        "print(y)"
      ],
      "execution_count": null,
      "outputs": []
    },
    {
      "cell_type": "markdown",
      "metadata": {
        "id": "9YfkdlVI8AeI"
      },
      "source": [
        "As mentioned above, copies owns the data, and views does not own the data, but how can we check this?\n",
        "\n",
        "Every NumPy array has the attribute base that returns None if the array owns the data.\n",
        "\n",
        "Otherwise, the base  attribute refers to the original object."
      ]
    },
    {
      "cell_type": "code",
      "metadata": {
        "id": "Z39oYMfj8CN5"
      },
      "source": [
        "arr14 = np.array([1, 2, 3, 4, 5])\n",
        "x = arr14.copy()\n",
        "\n",
        "print(x.base)\n",
        "print(y.base)"
      ],
      "execution_count": null,
      "outputs": []
    },
    {
      "cell_type": "markdown",
      "metadata": {
        "id": "LgBpbBhK8QYn"
      },
      "source": [
        "# Shape and Reshape"
      ]
    },
    {
      "cell_type": "code",
      "metadata": {
        "colab": {
          "base_uri": "https://localhost:8080/"
        },
        "id": "yCCqpzdm8SJ6",
        "outputId": "6a76d822-deff-4036-a88c-4a365bf08808"
      },
      "source": [
        "arr16 = np.array([1, 2, 3, 4, 5, 6, 7, 8, 9, 10, 11, 12])\n",
        "print(arr16.shape)\n",
        "newarr = arr16.reshape(4, 3) # change to (2, 3, 2) then (3, 5)\n",
        "print(newarr)\n",
        "print(newarr.shape)"
      ],
      "execution_count": null,
      "outputs": [
        {
          "output_type": "stream",
          "text": [
            "(12,)\n",
            "[[ 1  2  3]\n",
            " [ 4  5  6]\n",
            " [ 7  8  9]\n",
            " [10 11 12]]\n",
            "(4, 3)\n"
          ],
          "name": "stdout"
        }
      ]
    },
    {
      "cell_type": "code",
      "metadata": {
        "colab": {
          "base_uri": "https://localhost:8080/"
        },
        "id": "mYwwYWad-Sq0",
        "outputId": "0465c2fb-d8ea-4cea-b565-314889986ffe"
      },
      "source": [
        "arr17 = np.array([1, 2, 3, 4, 5, 6, 7, 8])\n",
        "print(arr17.reshape(2, 4).base)"
      ],
      "execution_count": null,
      "outputs": [
        {
          "output_type": "stream",
          "text": [
            "[1 2 3 4 5 6 7 8]\n"
          ],
          "name": "stdout"
        }
      ]
    },
    {
      "cell_type": "markdown",
      "metadata": {
        "id": "pnBk5xUY-YhU"
      },
      "source": [
        "You are allowed to have one \"unknown\" dimension.\n",
        "\n",
        "Meaning that you do not have to specify an exact number for one of the dimensions in the reshape method.\n",
        "\n",
        "Pass -1 as the value, and NumPy will calculate this number for you.\n",
        "\n",
        "**Note:** We can not pass -1 to more than one dimension."
      ]
    },
    {
      "cell_type": "code",
      "metadata": {
        "colab": {
          "base_uri": "https://localhost:8080/"
        },
        "id": "k0Q2M16T-Z_r",
        "outputId": "f8d42f04-8374-4c5a-c24f-0a8656539ca9"
      },
      "source": [
        "arr18 = np.array([1, 2, 3, 4, 5, 6, 7, 8])\n",
        "newarr = arr18.reshape(2, 2, -1)\n",
        "print(newarr)"
      ],
      "execution_count": null,
      "outputs": [
        {
          "output_type": "stream",
          "text": [
            "[[[1 2]\n",
            "  [3 4]]\n",
            "\n",
            " [[5 6]\n",
            "  [7 8]]]\n"
          ],
          "name": "stdout"
        }
      ]
    },
    {
      "cell_type": "markdown",
      "metadata": {
        "id": "L-DYJNfP-kLR"
      },
      "source": [
        "Flattening array means converting a multidimensional array into a 1D array.\n",
        "\n",
        "We can use reshape(-1) to do this."
      ]
    },
    {
      "cell_type": "code",
      "metadata": {
        "colab": {
          "base_uri": "https://localhost:8080/"
        },
        "id": "Gc8WrGmw-lSb",
        "outputId": "c0d8af19-5f10-4f91-c92f-79d1d79fcb98"
      },
      "source": [
        "arr19 = np.array([[1, 2, 3], [4, 5, 6]])\n",
        "newarr = arr19.reshape(-1)\n",
        "print(newarr)\n",
        "newarr2 = arr19.ravel()\n",
        "print(newarr2)"
      ],
      "execution_count": null,
      "outputs": [
        {
          "output_type": "stream",
          "text": [
            "[1 2 3 4 5 6]\n",
            "[1 2 3 4 5 6]\n"
          ],
          "name": "stdout"
        }
      ]
    },
    {
      "cell_type": "markdown",
      "metadata": {
        "id": "zdE9Ua6x-q0z"
      },
      "source": [
        "**Note:** There are a lot of functions for changing the shapes of arrays in numpy flatten, ravel and also for rearranging the elements rot90, flip, fliplr, flipud etc. These fall under Intermediate to Advanced section of numpy."
      ]
    },
    {
      "cell_type": "markdown",
      "metadata": {
        "id": "FLKl6T7--ssP"
      },
      "source": [
        "# Iterating Arrays"
      ]
    },
    {
      "cell_type": "code",
      "metadata": {
        "colab": {
          "base_uri": "https://localhost:8080/"
        },
        "id": "cTzXzkD0_Sio",
        "outputId": "efdb19d1-7af0-4146-9616-8ea768ef9385"
      },
      "source": [
        "# Iterating an element is just like a list, unless we had another function that does this.\n",
        "arr20 = np.array([[[1, 2, 3], [4, 5, 6]], [[7, 8, 9], [10, 11, 12]]])\n",
        "\n",
        "for x in arr20:\n",
        "  for y in x:\n",
        "    for z in y:\n",
        "      print(z)"
      ],
      "execution_count": null,
      "outputs": [
        {
          "output_type": "stream",
          "text": [
            "1\n",
            "2\n",
            "3\n",
            "4\n",
            "5\n",
            "6\n",
            "7\n",
            "8\n",
            "9\n",
            "10\n",
            "11\n",
            "12\n"
          ],
          "name": "stdout"
        }
      ]
    },
    {
      "cell_type": "code",
      "metadata": {
        "colab": {
          "base_uri": "https://localhost:8080/"
        },
        "id": "1wxpfu49fI7Y",
        "outputId": "c539a489-cab8-4938-caac-1ea22889247e"
      },
      "source": [
        "arr21 = np.array([[[1, 2], [3, 4]], [[5, 6], [7, 8]]])\n",
        "\n",
        "for x in np.nditer(arr21):\n",
        "  print(x)"
      ],
      "execution_count": null,
      "outputs": [
        {
          "output_type": "stream",
          "text": [
            "1\n",
            "2\n",
            "3\n",
            "4\n",
            "5\n",
            "6\n",
            "7\n",
            "8\n"
          ],
          "name": "stdout"
        }
      ]
    },
    {
      "cell_type": "markdown",
      "metadata": {
        "id": "b99Cer3-BWEG"
      },
      "source": [
        "We can use op_dtypes argument and pass it the expected datatype to change the datatype of elements while iterating.\n",
        "\n",
        "NumPy does not change the data type of the element in-place (where the element is in array) so it needs some other space to perform this action, that extra space is called buffer, and in order to enable it in nditer() we pass flags=['buffered']."
      ]
    },
    {
      "cell_type": "code",
      "metadata": {
        "colab": {
          "base_uri": "https://localhost:8080/"
        },
        "id": "5CPiinPsfR6-",
        "outputId": "bb684ede-79d2-4c66-ddaa-3211bdfef1f2"
      },
      "source": [
        "arr22 = np.array([1, 2, 3])\n",
        "\n",
        "for x in np.nditer(arr22, flags=['buffered'], op_dtypes=['S']):\n",
        "  print(x)"
      ],
      "execution_count": null,
      "outputs": [
        {
          "output_type": "stream",
          "text": [
            "b'1'\n",
            "b'2'\n",
            "b'3'\n"
          ],
          "name": "stdout"
        }
      ]
    },
    {
      "cell_type": "code",
      "metadata": {
        "colab": {
          "base_uri": "https://localhost:8080/"
        },
        "id": "w65KMavMBZq5",
        "outputId": "43150095-9c92-4031-c9a4-179be72ea8c5"
      },
      "source": [
        "arr23 = np.array([[1, 2, 3, 4], [5, 6, 7, 8]])\n",
        "\n",
        "for x in np.nditer(arr23[:, ::2]):\n",
        "  print(x)"
      ],
      "execution_count": null,
      "outputs": [
        {
          "output_type": "stream",
          "text": [
            "1\n",
            "3\n",
            "5\n",
            "7\n"
          ],
          "name": "stdout"
        }
      ]
    },
    {
      "cell_type": "code",
      "metadata": {
        "colab": {
          "base_uri": "https://localhost:8080/"
        },
        "id": "HJ1CKDsDBgtU",
        "outputId": "2b173ecd-6011-491b-bdba-e42449287f89"
      },
      "source": [
        "arr24 = np.array([[1, 2, 3, 4], [5, 6, 7, 8]])\n",
        "\n",
        "for idx, x in np.ndenumerate(arr24):\n",
        "  print(idx, x)"
      ],
      "execution_count": null,
      "outputs": [
        {
          "output_type": "stream",
          "text": [
            "(0, 0) 1\n",
            "(0, 1) 2\n",
            "(0, 2) 3\n",
            "(0, 3) 4\n",
            "(1, 0) 5\n",
            "(1, 1) 6\n",
            "(1, 2) 7\n",
            "(1, 3) 8\n"
          ],
          "name": "stdout"
        }
      ]
    },
    {
      "cell_type": "markdown",
      "metadata": {
        "id": "bN5Y-zQUBmd0"
      },
      "source": [
        "# Joining Arrays"
      ]
    },
    {
      "cell_type": "code",
      "metadata": {
        "colab": {
          "base_uri": "https://localhost:8080/"
        },
        "id": "MTj5yINBBoIL",
        "outputId": "61c1cc49-a216-416c-ca77-5535ace79ff5"
      },
      "source": [
        "arr1 = np.array([1, 2, 3])\n",
        "arr2 = np.array([4, 5, 6])\n",
        "arr = np.concatenate((arr1, arr2))\n",
        "print(arr)"
      ],
      "execution_count": null,
      "outputs": [
        {
          "output_type": "stream",
          "text": [
            "[1 2 3 4 5 6]\n"
          ],
          "name": "stdout"
        }
      ]
    },
    {
      "cell_type": "code",
      "metadata": {
        "colab": {
          "base_uri": "https://localhost:8080/"
        },
        "id": "Jhox9tIlBu6G",
        "outputId": "4d89aab9-a2f4-419b-da11-8d05b2dbe30a"
      },
      "source": [
        "arr1 = np.array([[1, 2], [3, 4]])\n",
        "arr2 = np.array([[5, 6], [7, 8]])\n",
        "arr = np.concatenate((arr1, arr2), axis=1)\n",
        "print(arr)"
      ],
      "execution_count": null,
      "outputs": [
        {
          "output_type": "stream",
          "text": [
            "[[1 2 5 6]\n",
            " [3 4 7 8]]\n"
          ],
          "name": "stdout"
        }
      ]
    },
    {
      "cell_type": "code",
      "metadata": {
        "colab": {
          "base_uri": "https://localhost:8080/"
        },
        "id": "qbVkWsvLB0eS",
        "outputId": "b28b7b53-aed2-4845-da6d-cca08d722991"
      },
      "source": [
        "arr1 = np.array([1, 2, 3])\n",
        "arr2 = np.array([4, 5, 6])\n",
        "arr = np.stack((arr1, arr2), axis=1)\n",
        "print(arr)"
      ],
      "execution_count": null,
      "outputs": [
        {
          "output_type": "stream",
          "text": [
            "[[1 4]\n",
            " [2 5]\n",
            " [3 6]]\n"
          ],
          "name": "stdout"
        }
      ]
    },
    {
      "cell_type": "code",
      "metadata": {
        "colab": {
          "base_uri": "https://localhost:8080/"
        },
        "id": "Jn0V4rl6B445",
        "outputId": "108e940f-85ed-492b-b9f8-feefc977848f"
      },
      "source": [
        "arr1 = np.array([1, 2, 3])\n",
        "arr2 = np.array([4, 5, 6])\n",
        "arr = np.hstack((arr1, arr2))\n",
        "print(arr)"
      ],
      "execution_count": null,
      "outputs": [
        {
          "output_type": "stream",
          "text": [
            "[1 2 3 4 5 6]\n"
          ],
          "name": "stdout"
        }
      ]
    },
    {
      "cell_type": "code",
      "metadata": {
        "colab": {
          "base_uri": "https://localhost:8080/"
        },
        "id": "aOtr-JanB8WO",
        "outputId": "86c4f3b3-74e6-4547-84ca-2e8c2dfe88c2"
      },
      "source": [
        "arr1 = np.array([1, 2, 3])\n",
        "arr2 = np.array([4, 5, 6])\n",
        "arr = np.vstack((arr1, arr2))\n",
        "print(arr)"
      ],
      "execution_count": null,
      "outputs": [
        {
          "output_type": "stream",
          "text": [
            "[[1 2 3]\n",
            " [4 5 6]]\n"
          ],
          "name": "stdout"
        }
      ]
    },
    {
      "cell_type": "code",
      "metadata": {
        "colab": {
          "base_uri": "https://localhost:8080/"
        },
        "id": "pN-O-sz2CAv_",
        "outputId": "409050c5-aaf5-4f00-cf85-e1b2ab0a9880"
      },
      "source": [
        "arr1 = np.array([1, 2, 3])\n",
        "arr2 = np.array([4, 5, 6])\n",
        "arr = np.dstack((arr1, arr2))\n",
        "print(arr)"
      ],
      "execution_count": null,
      "outputs": [
        {
          "output_type": "stream",
          "text": [
            "[[[1 4]\n",
            "  [2 5]\n",
            "  [3 6]]]\n"
          ],
          "name": "stdout"
        }
      ]
    },
    {
      "cell_type": "markdown",
      "metadata": {
        "id": "qr-zlyMbDt5U"
      },
      "source": [
        "# Splitting Arrays"
      ]
    },
    {
      "cell_type": "markdown",
      "metadata": {
        "id": "DpmpnBOlD0ti"
      },
      "source": [
        "Splitting is reverse operation of joining.\n",
        "\n",
        "Joining merges multiple arrays into one and splitting breaks one array into multiple.\n",
        "\n",
        "We use array_split() for splitting arrays, we pass it the array we want to split and the number of splits."
      ]
    },
    {
      "cell_type": "code",
      "metadata": {
        "colab": {
          "base_uri": "https://localhost:8080/"
        },
        "id": "QPR14CNhFFo_",
        "outputId": "e50995c6-5cd2-4113-e3f0-07a8c30bb67c"
      },
      "source": [
        "arr = np.array([1, 2, 3, 4, 5, 6])\n",
        "newarr = np.array_split(arr, 3)\n",
        "print(newarr)"
      ],
      "execution_count": null,
      "outputs": [
        {
          "output_type": "stream",
          "text": [
            "[array([1, 2]), array([3, 4]), array([5, 6])]\n"
          ],
          "name": "stdout"
        }
      ]
    },
    {
      "cell_type": "code",
      "metadata": {
        "colab": {
          "base_uri": "https://localhost:8080/"
        },
        "id": "uv2WQe5PFw1q",
        "outputId": "229b2342-52e8-4f82-9a79-badfcf96dc90"
      },
      "source": [
        "arr = np.array([[1, 2, 3], [4, 5, 6], [7, 8, 9], [10, 11, 12], [13, 14, 15], [16, 17, 18]])\n",
        "newarr = np.array_split(arr, 3)\n",
        "print(newarr)"
      ],
      "execution_count": null,
      "outputs": [
        {
          "output_type": "stream",
          "text": [
            "[array([[1, 2, 3],\n",
            "       [4, 5, 6]]), array([[ 7,  8,  9],\n",
            "       [10, 11, 12]]), array([[13, 14, 15],\n",
            "       [16, 17, 18]])]\n"
          ],
          "name": "stdout"
        }
      ]
    },
    {
      "cell_type": "code",
      "metadata": {
        "colab": {
          "base_uri": "https://localhost:8080/"
        },
        "id": "-jmytRHlF16t",
        "outputId": "34510c78-805e-4aa7-b5a8-0d26fdc4eed7"
      },
      "source": [
        "arr = np.array([[1, 2, 3], [4, 5, 6], [7, 8, 9], [10, 11, 12], [13, 14, 15], [16, 17, 18]])\n",
        "newarr = np.hsplit(arr, 3)\n",
        "print(newarr)"
      ],
      "execution_count": null,
      "outputs": [
        {
          "output_type": "stream",
          "text": [
            "[array([[ 1],\n",
            "       [ 4],\n",
            "       [ 7],\n",
            "       [10],\n",
            "       [13],\n",
            "       [16]]), array([[ 2],\n",
            "       [ 5],\n",
            "       [ 8],\n",
            "       [11],\n",
            "       [14],\n",
            "       [17]]), array([[ 3],\n",
            "       [ 6],\n",
            "       [ 9],\n",
            "       [12],\n",
            "       [15],\n",
            "       [18]])]\n"
          ],
          "name": "stdout"
        }
      ]
    },
    {
      "cell_type": "markdown",
      "metadata": {
        "id": "HijxkGJCGAr9"
      },
      "source": [
        "# Searching"
      ]
    },
    {
      "cell_type": "code",
      "metadata": {
        "colab": {
          "base_uri": "https://localhost:8080/"
        },
        "id": "gWFugyTQGB_S",
        "outputId": "4998f488-24e4-41de-83f7-b7f7478b4b92"
      },
      "source": [
        "arr = np.array([1, 2, 3, 4, 5, 4, 4])\n",
        "x = np.where(arr == 4) # arr % 2 == 1\n",
        "print(x)"
      ],
      "execution_count": null,
      "outputs": [
        {
          "output_type": "stream",
          "text": [
            "(array([3, 5, 6]),)\n"
          ],
          "name": "stdout"
        }
      ]
    },
    {
      "cell_type": "markdown",
      "metadata": {
        "id": "i1CCPKgFGda-"
      },
      "source": [
        "There is a method called searchsorted() which performs a binary search in the array, and returns the index where the specified value would be inserted to maintain the search order."
      ]
    },
    {
      "cell_type": "code",
      "metadata": {
        "colab": {
          "base_uri": "https://localhost:8080/"
        },
        "id": "HquVxyh1GW_z",
        "outputId": "6e7b2693-e10d-4719-9e8f-b608ab78f112"
      },
      "source": [
        "arr = np.array([6, 7, 8, 9])\n",
        "x = np.searchsorted(arr, 7) # add parameter side = 'right'\n",
        "print(x)"
      ],
      "execution_count": null,
      "outputs": [
        {
          "output_type": "stream",
          "text": [
            "2\n"
          ],
          "name": "stdout"
        }
      ]
    },
    {
      "cell_type": "code",
      "metadata": {
        "colab": {
          "base_uri": "https://localhost:8080/"
        },
        "id": "ZlgSA62CGqPY",
        "outputId": "07ed2d64-9056-4ad4-cb68-7eaa50f5b65d"
      },
      "source": [
        "arr = np.array([1, 3, 5, 7])\n",
        "x = np.searchsorted(arr, [2, 4, 6])\n",
        "print(x)"
      ],
      "execution_count": null,
      "outputs": [
        {
          "output_type": "stream",
          "text": [
            "[1 2 3]\n"
          ],
          "name": "stdout"
        }
      ]
    },
    {
      "cell_type": "markdown",
      "metadata": {
        "id": "S8TkHf7MGvqE"
      },
      "source": [
        "# Sorting Array"
      ]
    },
    {
      "cell_type": "code",
      "metadata": {
        "colab": {
          "base_uri": "https://localhost:8080/"
        },
        "id": "pbphht7fGxTq",
        "outputId": "f46d3acd-1cad-4987-fba0-686ea00b0bb1"
      },
      "source": [
        "arr = np.array([3, 2, 0, 1])\n",
        "print(np.sort(arr))\n",
        "\n",
        "arr = np.array(['banana', 'cherry', 'apple'])\n",
        "print(np.sort(arr))\n",
        "\n",
        "arr = np.array([[3, 2, 4], [5, 0, 1]])\n",
        "print(np.sort(arr))"
      ],
      "execution_count": null,
      "outputs": [
        {
          "output_type": "stream",
          "text": [
            "[0 1 2 3]\n",
            "['apple' 'banana' 'cherry']\n",
            "[[2 3 4]\n",
            " [0 1 5]]\n"
          ],
          "name": "stdout"
        }
      ]
    },
    {
      "cell_type": "markdown",
      "metadata": {
        "id": "F288BctIG87f"
      },
      "source": [
        "# Filtering an Array"
      ]
    },
    {
      "cell_type": "markdown",
      "metadata": {
        "id": "nAQCxlutHAPw"
      },
      "source": [
        "Getting some elements out of an existing array and creating a new array out of them is called filtering.\n",
        "\n",
        "In NumPy, you filter an array using a boolean index list."
      ]
    },
    {
      "cell_type": "code",
      "metadata": {
        "colab": {
          "base_uri": "https://localhost:8080/"
        },
        "id": "BGvv2DilHDJ1",
        "outputId": "67db9bda-f4bd-4796-c70f-6aa03d7ccee5"
      },
      "source": [
        "arr = np.array([41, 42, 43, 44])\n",
        "x = [True, False, True, False]\n",
        "newarr = arr[x]\n",
        "print(newarr)"
      ],
      "execution_count": null,
      "outputs": [
        {
          "output_type": "stream",
          "text": [
            "[41 43]\n"
          ],
          "name": "stdout"
        }
      ]
    },
    {
      "cell_type": "code",
      "metadata": {
        "colab": {
          "base_uri": "https://localhost:8080/"
        },
        "id": "qk1REWyoHJlq",
        "outputId": "09180b4d-ddf4-4584-a635-b4429e957ff1"
      },
      "source": [
        "# How to filter odd values?\n",
        "arr = np.array([1, 2, 3, 4, 5, 6, 7])\n",
        "\n",
        "# Create an empty list\n",
        "filter_arr = []\n",
        "\n",
        "# go through each element in arr\n",
        "for element in arr:\n",
        "  # if the element is completely divisble by 2, set the value to True, otherwise False\n",
        "  if element % 2 == 0:\n",
        "    filter_arr.append(True)\n",
        "  else:\n",
        "    filter_arr.append(False)\n",
        "\n",
        "newarr = arr[filter_arr]\n",
        "\n",
        "print(filter_arr)\n",
        "print(newarr)"
      ],
      "execution_count": null,
      "outputs": [
        {
          "output_type": "stream",
          "text": [
            "[False, True, False, True, False, True, False]\n",
            "[2 4 6]\n"
          ],
          "name": "stdout"
        }
      ]
    },
    {
      "cell_type": "markdown",
      "metadata": {
        "id": "mvTiekGSIDCf"
      },
      "source": [
        "# Misc"
      ]
    },
    {
      "cell_type": "code",
      "metadata": {
        "colab": {
          "base_uri": "https://localhost:8080/"
        },
        "id": "mOIG5-xkIFID",
        "outputId": "13a2ca44-0cee-4b10-daf6-84a62475f0e5"
      },
      "source": [
        "# Placeholders\n",
        "a = np.zeros((3,4))\n",
        "b = np.ones((2,3,4))\n",
        "c = np.arange(10,25,5)\n",
        "d = np.linspace(0,2,9)\n",
        "e = np.full((2,2),7)\n",
        "f = np.eye(5)\n",
        "g = np.random.random((2,4))\n",
        "h = np.empty((3,2))\n",
        "\n",
        "print(h)"
      ],
      "execution_count": null,
      "outputs": [
        {
          "output_type": "stream",
          "text": [
            "[[9.9e-324 1.5e-323]\n",
            " [2.0e-323 0.0e+000]\n",
            " [4.9e-324 2.5e-323]]\n"
          ],
          "name": "stdout"
        }
      ]
    },
    {
      "cell_type": "code",
      "metadata": {
        "colab": {
          "base_uri": "https://localhost:8080/"
        },
        "id": "QiUDpV6eJJGK",
        "outputId": "0e02d50e-8357-4474-f434-74961d7409a9"
      },
      "source": [
        "x1 = np.array([1,2,3])\n",
        "x2 = np.array([1,3,5])\n",
        "\n",
        "print(x1+x2)\n",
        "print(x1-x2)\n",
        "print(np.add(x1,x2))\n",
        "print(np.multiply(x1,x2))\n",
        "print(np.exp(x1))\n",
        "print(np.sqrt(x1))\n",
        "print(np.sin(x1)) # cos, log"
      ],
      "execution_count": null,
      "outputs": [
        {
          "output_type": "stream",
          "text": [
            "[2 5 8]\n",
            "[ 0 -1 -2]\n",
            "[2 5 8]\n",
            "[ 1  6 15]\n",
            "[ 2.71828183  7.3890561  20.08553692]\n",
            "[1.         1.41421356 1.73205081]\n",
            "[0.84147098 0.90929743 0.14112001]\n"
          ],
          "name": "stdout"
        }
      ]
    },
    {
      "cell_type": "code",
      "metadata": {
        "colab": {
          "base_uri": "https://localhost:8080/"
        },
        "id": "Jxx3ddN3JiO4",
        "outputId": "dad9b882-34f8-4f5e-ea4c-9f6d23071350"
      },
      "source": [
        "x1.dot(x2)"
      ],
      "execution_count": null,
      "outputs": [
        {
          "output_type": "execute_result",
          "data": {
            "text/plain": [
              "22"
            ]
          },
          "metadata": {
            "tags": []
          },
          "execution_count": 112
        }
      ]
    },
    {
      "cell_type": "code",
      "metadata": {
        "colab": {
          "base_uri": "https://localhost:8080/"
        },
        "id": "Fe2cw48gJmHo",
        "outputId": "124ab10b-19b9-4418-d516-a0fa1774dfa4"
      },
      "source": [
        "x1.sum() # min, max, cumsum, mean, median, corrcoef"
      ],
      "execution_count": null,
      "outputs": [
        {
          "output_type": "execute_result",
          "data": {
            "text/plain": [
              "6"
            ]
          },
          "metadata": {
            "tags": []
          },
          "execution_count": 113
        }
      ]
    },
    {
      "cell_type": "code",
      "metadata": {
        "colab": {
          "base_uri": "https://localhost:8080/"
        },
        "id": "IIDwkw1sJqvc",
        "outputId": "3ff3e75b-e300-44a3-812f-714ef3aeeb11"
      },
      "source": [
        "np.std(x2)"
      ],
      "execution_count": null,
      "outputs": [
        {
          "output_type": "execute_result",
          "data": {
            "text/plain": [
              "1.632993161855452"
            ]
          },
          "metadata": {
            "tags": []
          },
          "execution_count": 114
        }
      ]
    },
    {
      "cell_type": "code",
      "metadata": {
        "colab": {
          "base_uri": "https://localhost:8080/"
        },
        "id": "nCVe6d-sJv05",
        "outputId": "48edd7f3-e92c-4a8d-e73e-48cac805d651"
      },
      "source": [
        "np.transpose(x2) # or x2.T"
      ],
      "execution_count": null,
      "outputs": [
        {
          "output_type": "execute_result",
          "data": {
            "text/plain": [
              "array([1, 3, 5])"
            ]
          },
          "metadata": {
            "tags": []
          },
          "execution_count": 116
        }
      ]
    },
    {
      "cell_type": "markdown",
      "metadata": {
        "id": "scp7fjmPHbko"
      },
      "source": [
        "# Good job! You have finished our simple NumPy tutorial!"
      ]
    }
  ]
}